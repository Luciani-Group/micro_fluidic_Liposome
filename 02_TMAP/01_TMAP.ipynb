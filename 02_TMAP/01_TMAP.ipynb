{
 "cells": [
  {
   "cell_type": "code",
   "execution_count": 1,
   "metadata": {},
   "outputs": [
    {
     "name": "stderr",
     "output_type": "stream",
     "text": [
      "Using `tqdm.autonotebook.tqdm` in notebook mode. Use `tqdm.tqdm` instead to force console mode (e.g. in jupyter console)\n"
     ]
    }
   ],
   "source": [
    "import pandas as pd \n",
    "import numpy as np \n",
    "from math import log10\n",
    "\n",
    "from sklearn.model_selection import train_test_split\n",
    "from sklearn.metrics import roc_auc_score, accuracy_score, precision_score, recall_score, f1_score, r2_score\n",
    "from sklearn.neighbors import NearestNeighbors\n",
    "\n",
    "from sklearn.neural_network import MLPClassifier\n",
    "import xgboost\n",
    "import shap\n",
    "\n",
    "from matplotlib.colors import ListedColormap, LinearSegmentedColormap\n",
    "import matplotlib.pyplot as plt\n",
    "plt.rcParams['font.sans-serif'] = \"Menlo\"\n",
    "plt.rcParams['font.family'] = \"sans-serif\"\n",
    "plt.rcParams.update({'font.size': 10})\n",
    "\n",
    "import tmap as tm\n",
    "from faerun import Faerun"
   ]
  },
  {
   "cell_type": "markdown",
   "metadata": {},
   "source": [
    "### Import data"
   ]
  },
  {
   "cell_type": "markdown",
   "metadata": {},
   "source": [
    "Import data"
   ]
  },
  {
   "cell_type": "code",
   "execution_count": 2,
   "metadata": {},
   "outputs": [],
   "source": [
    "df = pd.read_excel('data/20240517_Liposome_data.xlsx', engine='openpyxl')"
   ]
  },
  {
   "cell_type": "markdown",
   "metadata": {},
   "source": [
    "Normalize size data"
   ]
  },
  {
   "cell_type": "code",
   "execution_count": 3,
   "metadata": {},
   "outputs": [],
   "source": [
    "df['log_size'] = df['Size'].apply(lambda x: log10(x))"
   ]
  },
  {
   "cell_type": "markdown",
   "metadata": {},
   "source": [
    "Change CHIP to categorical data"
   ]
  },
  {
   "cell_type": "code",
   "execution_count": 4,
   "metadata": {},
   "outputs": [],
   "source": [
    "df['CHIP'] = df['CHIP'].astype('category')\n",
    "df['CHIPID'] = df['CHIP'].cat.codes"
   ]
  },
  {
   "cell_type": "markdown",
   "metadata": {},
   "source": [
    "#### Featurize"
   ]
  },
  {
   "cell_type": "markdown",
   "metadata": {},
   "source": [
    "Generate a feature vector for each datapoint"
   ]
  },
  {
   "cell_type": "code",
   "execution_count": 9,
   "metadata": {},
   "outputs": [],
   "source": [
    "def feature_vector(row):\n",
    "    return np.array([row['CHIPID'], row['Lipid n%'], row['CHOL %'], row['DSPE-PEG %'], row['TFR'], row['PDI'], row['Chain length 1'], row['Unsatturation chain 1'], row['Chain length 2'], row['Unsatturation chain 2'], row['FRR']])"
   ]
  },
  {
   "cell_type": "markdown",
   "metadata": {},
   "source": [
    "Calculate"
   ]
  },
  {
   "cell_type": "code",
   "execution_count": 10,
   "metadata": {},
   "outputs": [],
   "source": [
    "df['feature_vector'] = df.apply(feature_vector, axis=1)\n",
    "features_np = np.array(df['feature_vector'].tolist())"
   ]
  },
  {
   "cell_type": "markdown",
   "metadata": {},
   "source": [
    "#### TMAP"
   ]
  },
  {
   "cell_type": "markdown",
   "metadata": {},
   "source": [
    "Calculate TMAP layout"
   ]
  },
  {
   "cell_type": "code",
   "execution_count": 11,
   "metadata": {},
   "outputs": [],
   "source": [
    "knn = 500\n",
    "knn_search = NearestNeighbors(n_neighbors=knn, radius=1.0, algorithm='auto', leaf_size=30, metric='euclidean', p=2, metric_params=None, n_jobs=None)\n",
    "knn_search.fit(features_np)\n",
    "\n",
    "edge_list = []\n",
    "for i in range(len(features_np)):\n",
    "    dists, idxs = knn_search.kneighbors(features_np[i].reshape(1, -1))\n",
    "    for j in range(knn):\n",
    "        edge_list.append([i, idxs[0, j], dists[0, j]])\n",
    "\n",
    "\n",
    "cfg = tm.LayoutConfiguration()\n",
    "cfg.node_size = 1 / 15\n",
    "cfg.mmm_repeats = 2\n",
    "cfg.sl_extra_scaling_steps = 5\n",
    "cfg.k = 15\n",
    "cfg.sl_scaling_type = tm.RelativeToAvgLength\n",
    "\n",
    "x_, y_, s, t, gp = tm.layout_from_edge_list(len(features_np), edge_list, cfg)\n",
    "tm_layout_mxfp = {'x': list(x_), 'y': list(y_), 's': list(s), 't': list(t)}"
   ]
  },
  {
   "cell_type": "code",
   "execution_count": 12,
   "metadata": {},
   "outputs": [],
   "source": [
    "pop_labels, pop_data = Faerun.create_categories(df['Population'])\n",
    "frr_labels, frr_data = Faerun.create_categories(df['FRR'])\n",
    "\n",
    "cmap_discrete = ListedColormap(['#0481FA', '#FC0453'])\n",
    "cmap_continuous = LinearSegmentedColormap.from_list('custom', ['#0481FA', '#FC0453'], N=256)"
   ]
  },
  {
   "cell_type": "code",
   "execution_count": 13,
   "metadata": {},
   "outputs": [],
   "source": [
    "labels = []\n",
    "\n",
    "for i, row in df.iterrows():\n",
    "    labels.append(\n",
    "            row['SMILES ']\n",
    "            + '__'\n",
    "            + '<small style=\"color:grey;\">DSPE-PEG %</small>'\n",
    "            + '__'\n",
    "            + f'{row[\"DSPE-PEG %\"]}'\n",
    "            + '__'\n",
    "            + '<small style=\"color:grey;\">TFR</small>'\n",
    "            + '__'\n",
    "            + f'{row[\"TFR\"]}'\n",
    "            + '__'\n",
    "            + '<small style=\"color:grey;\">FRR</small>'\n",
    "            + '__'\n",
    "            + f'{row[\"FRR\"]}'\n",
    "            + '__'\n",
    "            + '<small style=\"color:grey;\">CHIP</small>'\n",
    "            + '__'\n",
    "            + f'{row[\"CHIP\"]}'\n",
    "            + '__'\n",
    "            + '<small style=\"color:grey;\">CHOL %</small>'\n",
    "            + '__'\n",
    "            + f'{row[\"CHOL %\"]}'\n",
    "        )"
   ]
  },
  {
   "cell_type": "code",
   "execution_count": 14,
   "metadata": {},
   "outputs": [
    {
     "data": {
      "text/html": [
       "\n",
       "        <iframe\n",
       "            width=\"100%\"\n",
       "            height=\"500\"\n",
       "            src=\"./liposomes_tmap.html\"\n",
       "            frameborder=\"0\"\n",
       "            allowfullscreen\n",
       "            \n",
       "        ></iframe>\n",
       "        "
      ],
      "text/plain": [
       "<IPython.lib.display.IFrame at 0x7ef65eb5d750>"
      ]
     },
     "metadata": {},
     "output_type": "display_data"
    },
    {
     "data": {
      "text/html": [
       "<a href='./liposomes_tmap.html' target='_blank'>./liposomes_tmap.html</a><br>"
      ],
      "text/plain": [
       "/home/markus/Developer/Code/Liposomes/liposomes_tmap.html"
      ]
     },
     "metadata": {},
     "output_type": "display_data"
    }
   ],
   "source": [
    "f = Faerun(\n",
    "    view=\"front\", \n",
    "    coords=False,\n",
    "    title=\"\",\n",
    "    clear_color=\"#FFFFFF\"\n",
    ")\n",
    "\n",
    "f.add_scatter(\n",
    "    \"Liposomes_TMAP\",\n",
    "    {\n",
    "        \"x\": tm.VectorFloat(tm_layout_mxfp['x']),\n",
    "        \"y\": tm.VectorFloat(tm_layout_mxfp['y']),\n",
    "        \"c\": [pop_data,\n",
    "                df['log_size'].values.tolist(),\n",
    "                df['FRR'].values.tolist(),\n",
    "            ],\n",
    "        \"labels\": labels,\n",
    "    },\n",
    "    shader=\"smoothCircle\",\n",
    "    point_scale=10,\n",
    "    max_point_size=20,\n",
    "    legend_labels=[pop_labels, None, None],\n",
    "    categorical=[True, False, False],\n",
    "    colormap=[cmap_discrete, cmap_continuous, cmap_continuous],\n",
    "    series_title=['Populations', 'log10 Size', 'FRR'],\n",
    "    has_legend=True,\n",
    ")\n",
    "\n",
    "f.thumbnail_width = 250\n",
    "f.add_tree(\"Liposomes_TMAP_tree\", {\"from\": tm.VectorUint(tm_layout_mxfp['s']), \"to\": tm.VectorUint(tm_layout_mxfp['t'])}, point_helper=\"Liposomes_TMAP\")\n",
    "f.plot('liposomes_tmap', template='smiles')"
   ]
  },
  {
   "cell_type": "code",
   "execution_count": null,
   "metadata": {},
   "outputs": [],
   "source": []
  }
 ],
 "metadata": {
  "kernelspec": {
   "display_name": "chemical_space",
   "language": "python",
   "name": "python3"
  },
  "language_info": {
   "codemirror_mode": {
    "name": "ipython",
    "version": 3
   },
   "file_extension": ".py",
   "mimetype": "text/x-python",
   "name": "python",
   "nbconvert_exporter": "python",
   "pygments_lexer": "ipython3",
   "version": "3.7.12"
  }
 },
 "nbformat": 4,
 "nbformat_minor": 2
}
